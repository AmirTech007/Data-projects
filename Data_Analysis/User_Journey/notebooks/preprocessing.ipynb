{
 "cells": [
  {
   "cell_type": "code",
   "execution_count": 1,
   "id": "53039f19-4d8a-47cd-b24d-8e8e3809601c",
   "metadata": {},
   "outputs": [
    {
     "name": "stdout",
     "output_type": "stream",
     "text": [
      "Preprocessed data saved to: user_journey_preprocessed.csv\n"
     ]
    },
    {
     "name": "stderr",
     "output_type": "stream",
     "text": [
      "C:\\Users\\Lenovo\\AppData\\Local\\Temp\\ipykernel_20896\\795596236.py:24: DeprecationWarning: DataFrameGroupBy.apply operated on the grouping columns. This behavior is deprecated, and in a future version of pandas the grouping columns will be excluded from the operation. Either pass `include_groups=False` to exclude the groupings or explicitly select the grouping columns after groupby to silence this warning.\n",
      "  df_grouped = df_raw.groupby([\"user_id\", \"subscription_type\"]).apply(lambda x: aggregate_journey(x)).reset_index()\n"
     ]
    }
   ],
   "source": [
    "import pandas as pd\n",
    "import numpy as np\n",
    "import matplotlib.pyplot as plt\n",
    "import seaborn as sns\n",
    "import plotly.express as px\n",
    "\n",
    "### ==========================\n",
    "### PREPROCESSING\n",
    "### ==========================\n",
    "\n",
    "# Load raw data\n",
    "file_path = \"user_journey_raw.csv\"\n",
    "df_raw = pd.read_csv(file_path)\n",
    "\n",
    "\n",
    "\n",
    "# Function to group user journeys by user_id while retaining subscription type\n",
    "def aggregate_journey(group, sessions=10, count_from=\"first\"):\n",
    "    group = group.sort_values(\"session_id\")\n",
    "    selected_sessions = group.iloc[-sessions:] if count_from == \"last\" else group.iloc[:sessions]\n",
    "    return \"-\".join(selected_sessions[\"user_journey\"])\n",
    "\n",
    "# Apply grouping while keeping subscription type\n",
    "df_grouped = df_raw.groupby([\"user_id\", \"subscription_type\"]).apply(lambda x: aggregate_journey(x)).reset_index()\n",
    "df_grouped.columns = [\"user_id\", \"subscription_type\", \"user_journey\"]\n",
    "\n",
    "# Function to remove sequential duplicate pages\n",
    "def clean_user_journey(journey):\n",
    "    pages = journey.split(\"-\")\n",
    "    cleaned_pages = [pages[0]]\n",
    "    for i in range(1, len(pages)):\n",
    "        if pages[i] != pages[i - 1]:\n",
    "            cleaned_pages.append(pages[i])\n",
    "    return \"-\".join(cleaned_pages)\n",
    "\n",
    "# Apply cleaning function\n",
    "df_grouped[\"user_journey\"] = df_grouped[\"user_journey\"].apply(clean_user_journey)\n",
    "\n",
    "\n",
    "\n",
    "# Save preprocessed data\n",
    "preprocessed_file_path = \"user_journey_preprocessed.csv\"\n",
    "df_grouped.to_csv(preprocessed_file_path, index=False)\n",
    "print(f\"Preprocessed data saved to: {preprocessed_file_path}\")\n",
    "\n",
    "\n",
    "\n"
   ]
  },
  {
   "cell_type": "code",
   "execution_count": null,
   "id": "d5c76b41-b956-45cf-8b28-7861d4030ddc",
   "metadata": {},
   "outputs": [],
   "source": []
  }
 ],
 "metadata": {
  "kernelspec": {
   "display_name": "Python 3 (ipykernel)",
   "language": "python",
   "name": "python3"
  },
  "language_info": {
   "codemirror_mode": {
    "name": "ipython",
    "version": 3
   },
   "file_extension": ".py",
   "mimetype": "text/x-python",
   "name": "python",
   "nbconvert_exporter": "python",
   "pygments_lexer": "ipython3",
   "version": "3.12.7"
  }
 },
 "nbformat": 4,
 "nbformat_minor": 5
}
